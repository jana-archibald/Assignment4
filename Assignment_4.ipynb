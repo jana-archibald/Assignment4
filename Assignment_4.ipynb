{
 "cells": [
  {
   "cell_type": "markdown",
   "metadata": {
    "editable": false
   },
   "source": [
    "# Jupyter Assignment 4 Due August 10\n",
    "\n",
    "\n",
    "###  These questions will be graded based on correctness, please take the time to make a final answer.  Ensure you have completely answered all of the questions, remove code that didn't run, or was not what was needed.\n",
    "\n",
    "#### Some of the questions come from our textbook, if so I have indecated the question number.\n",
    "\n",
    "#### If you need to add a code or markdown block you can use the `+` symbol above.  To remove a block use the scissors.\n",
    "\n",
    "#### I have included the normalplot code below, if you want to use it don't forget to run the code."
   ]
  },
  {
   "cell_type": "code",
   "execution_count": 1,
   "metadata": {
    "editable": false
   },
   "outputs": [],
   "source": [
    "normalplot<-function(m,sd,region=0){\n",
    "  x<-seq(m-(3.5)*sd,m+(3.5)*sd,length=1000)\n",
    "  y<-dnorm(x,m,sd)\n",
    "  plot(x,y,type=\"l\",xlab=\"\",ylab=\"\", bty=\"n\", yaxt=\"n\")\n",
    "  h <- dnorm(m,m,sd)\n",
    "  z<-x[x>region[1]]\n",
    "  z<-z[z<region[2]]\n",
    "  polygon(c(region[1],z,region[2]),\n",
    "          c(0,dnorm(z,m,sd),0),col=\"gray\")\n",
    "  abline(v=m)\n",
    "  abline(h=0)}"
   ]
  },
  {
   "cell_type": "markdown",
   "metadata": {
    "editable": false
   },
   "source": [
    "## Question 1  \n",
    "\n",
    "A randomly selected sample of 500 registered voters in Lethbridge are asked if they support the current government, 160 said yes.  \n",
    "\n",
    "### Part a)\n",
    "Do we meet the requirements to compute a valid confidence interval?  List all of the things you are checking, whether or not you know that we meet them."
   ]
  },
  {
   "cell_type": "markdown",
   "metadata": {},
   "source": [
    "Answer Part a)"
   ]
  },
  {
   "cell_type": "markdown",
   "metadata": {
    "editable": false
   },
   "source": [
    "### Part b) \n",
    "Regardless of your answer for part (a) compute a 95% confidence interval for the proportion of people in Lethbridge who support the current government."
   ]
  },
  {
   "cell_type": "markdown",
   "metadata": {
    "editable": false
   },
   "source": [
    "### Part c) \n",
    "\n",
    "Write one or two sentences explaining this confidence interval to a friend who has never taken a statistics class."
   ]
  },
  {
   "cell_type": "markdown",
   "metadata": {},
   "source": [
    "Answer part c)"
   ]
  },
  {
   "cell_type": "markdown",
   "metadata": {
    "editable": false
   },
   "source": [
    "## Question 2 (OpenIntro 6.8)  Life rating in Greece. \n",
    "\n",
    "Greece has faced a severe economic crisis since the end of 2009. A Gallup poll\n",
    "surveyed 1,000 randomly sampled Greeks in 2011 and found that 25% of them said they would rate their\n",
    "lives poorly enough to be considered suffering\".\n",
    "\n",
    "\n",
    "(a) Describe the population parameter of interest. What is the value of the point estimate of this parameter?\n",
    "\n",
    "(b) Check if the conditions required for constructing a confidence interval based on these data are met.\n",
    "\n",
    "(c) Construct a 95% confidence interval for the proportion of Greeks who are suffering\".\n",
    "\n",
    "(d) Without doing any calculations, describe what would happen to the confidence interval if we decided to\n",
    "use a higher confidence level.\n",
    "\n",
    "\n",
    "(e) Without doing any calculations, describe what would happen to the confidence interval if we used a\n",
    "larger sample."
   ]
  },
  {
   "cell_type": "code",
   "execution_count": null,
   "metadata": {},
   "outputs": [],
   "source": []
  },
  {
   "cell_type": "markdown",
   "metadata": {
    "editable": false
   },
   "source": [
    "## Question 3 (OpenIntro 6.10) Legalization of marijuana, Part I.\n",
    "\n",
    "The General Social Survey asked 1,578 US residents: Do you\n",
    "think the use of marijuana should be made legal, or not?\" 61% of the respondents said it should be made\n",
    "legal.\n",
    "\n",
    "\n",
    "(a) Is 61% a sample statistic or a population parameter? Explain.\n",
    "\n",
    "\n",
    "(b) Construct a 95% confidence interval for the proportion of US residents who think marijuana should be\n",
    "made legal, and interpret it in the context of the data.\n",
    "\n",
    "\n",
    "(c) A critic points out that this 95% confidence interval is only accurate if the statistic follows a normal\n",
    "distribution, or if the normal model is a good approximation. Is this true for these data? Explain.\n",
    "(Include a plot of the sampling distribution for the statistic)\n",
    "\n",
    "\n",
    "\n",
    "(d) A news piece on this survey's findings states, Majority of Americans think marijuana should be legal-\n",
    "ized.\" Based on your confidence interval, is this news piece's statement justified?"
   ]
  },
  {
   "cell_type": "code",
   "execution_count": null,
   "metadata": {},
   "outputs": [],
   "source": []
  },
  {
   "cell_type": "markdown",
   "metadata": {
    "editable": false
   },
   "source": [
    "## Question  4\n",
    "\n",
    "A computer company checks every computer it produces before shipping. Each computer undergoes a series of 100 tests. The number of tests it fails will be used to determine whether the computer is Good or Defective. If it fails more than a certain number, it will be classified as Defective and will not be shipped. From past history, the distribution of the number of tests failed is known for both Good and Defective computers. The probabilities associated with each outcome are listed in the table below:\n",
    "\n",
    "| Number of Tests Failed \t| 0  \t| 1  \t| 2  \t| 3 \t| 4 \t| 5 \t| More than5 \t|\n",
    "|:----------------------:\t|----\t|----\t|----\t|---\t|---\t|---\t|------------\t|\n",
    "|        Good (%)        \t| 80 \t| 12 \t| 2  \t| 3 \t| 2 \t| 1 \t| 0          \t|\n",
    "|      Defective(%)      \t| 0  \t| 10 \t| 70 \t| 5 \t| 4 \t| 1 \t| 10         \t|\n",
    "\n",
    "The table indicates, for example, that 80% of Good computers will have exactly 0 failures in 100 tests, while 70% of Defective computers have exactly 2 failures in 100 tests.\n",
    "\n",
    "This is a hypothesis-testing situation.\n",
    "\n",
    "Null hypothesis: computer is Good\n",
    "\n",
    "Alternative hypothesis: computer is Defective. \n",
    "\n",
    "The computer will be declared Defective (reject null hypothesis) if it fails at least 3 tests (3 or more).\n",
    "\n",
    "\n",
    "\n",
    "\n",
    "### Part a) \n",
    "Suppose we test a computer and it fails 2 tests. What is the associated p-value?"
   ]
  },
  {
   "cell_type": "markdown",
   "metadata": {},
   "source": [
    "Answer a)"
   ]
  },
  {
   "cell_type": "markdown",
   "metadata": {
    "editable": false
   },
   "source": [
    "### Part b)\t\n",
    "\t\n",
    "In this example what would a type I error be?\n",
    "\n",
    "What is a consequence for the company if they make a type I error?\n",
    "\n",
    "What is the probability of a Type I error?"
   ]
  },
  {
   "cell_type": "markdown",
   "metadata": {},
   "source": [
    "Answer b)"
   ]
  },
  {
   "cell_type": "markdown",
   "metadata": {
    "editable": false
   },
   "source": [
    "### Part c)\t\n",
    "\t\n",
    "In this example what would a type I error be?\n",
    "\n",
    "What is a consequence for the company if they make a type II error?\n",
    "\n",
    "What is the probability of a Type II error?"
   ]
  },
  {
   "cell_type": "markdown",
   "metadata": {},
   "source": [
    "Answer part c)"
   ]
  },
  {
   "cell_type": "markdown",
   "metadata": {
    "editable": false
   },
   "source": [
    "### Part d)\n",
    "\n",
    "Do you think that the standard of declaring a computer Defective if it fails at least 3 tests (3 or more) is resonable? Use the risk of type I and type II error to justify your opinion. \n"
   ]
  },
  {
   "cell_type": "markdown",
   "metadata": {},
   "source": [
    "Answer part d)"
   ]
  },
  {
   "cell_type": "markdown",
   "metadata": {
    "editable": false
   },
   "source": [
    "  ## Question 5   (6.42 OpenIntro The Civil War. )  \n",
    "  \n",
    "  A national survey conducted among a simple random sample of 1,507 adults shows\n",
    "that 56% of Americans think the Civil War is still relevant to American politics and political life.\n",
    "\n",
    "\n",
    "(a) Conduct a hypothesis test to determine if these data provide strong evidence that the majority of the\n",
    "Americans think the Civil War is still relevant.\n",
    "\n",
    "i. Write out the null and alternate hypothesis in words and in equations.\n",
    "\n",
    "ii. What is the shape of the sampling distribution? Check that all requirements hold.\n",
    "\n",
    "iii. Compute the z score and the p-value\n",
    "\n",
    "iv. Make a conclusion\n",
    "\n",
    "\n",
    "\n",
    "\n",
    "\n",
    "(b) Interpret the p-value in this context.\n",
    "\n",
    "\n",
    "\n",
    "\n",
    "(c) Calculate a 90% confidence interval for the proportion of Americans who think the Civil War is still\n",
    "relevant. Interpret the interval in this context, and comment on whether or not the confidence interval\n",
    "agrees with the conclusion of the hypothesis test."
   ]
  },
  {
   "cell_type": "code",
   "execution_count": null,
   "metadata": {},
   "outputs": [],
   "source": []
  }
 ],
 "metadata": {
  "celltoolbar": "Edit Metadata",
  "kernelspec": {
   "display_name": "R",
   "language": "R",
   "name": "ir"
  },
  "language_info": {
   "codemirror_mode": "r",
   "file_extension": ".r",
   "mimetype": "text/x-r-source",
   "name": "R",
   "pygments_lexer": "r",
   "version": "3.6.2"
  }
 },
 "nbformat": 4,
 "nbformat_minor": 4
}
